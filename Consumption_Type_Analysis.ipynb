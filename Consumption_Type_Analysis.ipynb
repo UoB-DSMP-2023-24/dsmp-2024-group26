{
 "cells": [
  {
   "cell_type": "markdown",
   "id": "b1e2e85b",
   "metadata": {},
   "source": [
    "# 1. Data Preparation"
   ]
  },
  {
   "cell_type": "code",
   "execution_count": 1,
   "id": "77315ba6",
   "metadata": {},
   "outputs": [],
   "source": [
    "import pandas as pd\n",
    "import numpy as np"
   ]
  },
  {
   "cell_type": "code",
   "execution_count": 2,
   "id": "b91335f3",
   "metadata": {},
   "outputs": [],
   "source": [
    "import matplotlib.pyplot as plt\n",
    "import seaborn as sns"
   ]
  },
  {
   "cell_type": "code",
   "execution_count": 3,
   "id": "09140dcf",
   "metadata": {},
   "outputs": [],
   "source": [
    "data = pd.read_csv(\"./data/fake_transactional_data_24.csv\")"
   ]
  },
  {
   "cell_type": "code",
   "execution_count": 4,
   "id": "fc710190",
   "metadata": {},
   "outputs": [
    {
     "data": {
      "text/html": [
       "<div>\n",
       "<style scoped>\n",
       "    .dataframe tbody tr th:only-of-type {\n",
       "        vertical-align: middle;\n",
       "    }\n",
       "\n",
       "    .dataframe tbody tr th {\n",
       "        vertical-align: top;\n",
       "    }\n",
       "\n",
       "    .dataframe thead th {\n",
       "        text-align: right;\n",
       "    }\n",
       "</style>\n",
       "<table border=\"1\" class=\"dataframe\">\n",
       "  <thead>\n",
       "    <tr style=\"text-align: right;\">\n",
       "      <th></th>\n",
       "      <th>from_account</th>\n",
       "      <th>money_amount</th>\n",
       "      <th>to_account</th>\n",
       "      <th>date</th>\n",
       "    </tr>\n",
       "  </thead>\n",
       "  <tbody>\n",
       "    <tr>\n",
       "      <th>0</th>\n",
       "      <td>10371.0</td>\n",
       "      <td>4.00</td>\n",
       "      <td>CINEMA</td>\n",
       "      <td>01/01/2025</td>\n",
       "    </tr>\n",
       "    <tr>\n",
       "      <th>1</th>\n",
       "      <td>88339.0</td>\n",
       "      <td>2.40</td>\n",
       "      <td>40544</td>\n",
       "      <td>01/01/2025</td>\n",
       "    </tr>\n",
       "    <tr>\n",
       "      <th>2</th>\n",
       "      <td>18555.0</td>\n",
       "      <td>2.40</td>\n",
       "      <td>85149</td>\n",
       "      <td>01/01/2025</td>\n",
       "    </tr>\n",
       "    <tr>\n",
       "      <th>3</th>\n",
       "      <td>18555.0</td>\n",
       "      <td>4.10</td>\n",
       "      <td>HIPSTER_COFFEE_SHOP</td>\n",
       "      <td>01/01/2025</td>\n",
       "    </tr>\n",
       "    <tr>\n",
       "      <th>4</th>\n",
       "      <td>80792.0</td>\n",
       "      <td>1.95</td>\n",
       "      <td>18555</td>\n",
       "      <td>01/01/2025</td>\n",
       "    </tr>\n",
       "  </tbody>\n",
       "</table>\n",
       "</div>"
      ],
      "text/plain": [
       "   from_account  money_amount           to_account        date\n",
       "0       10371.0          4.00               CINEMA  01/01/2025\n",
       "1       88339.0          2.40                40544  01/01/2025\n",
       "2       18555.0          2.40                85149  01/01/2025\n",
       "3       18555.0          4.10  HIPSTER_COFFEE_SHOP  01/01/2025\n",
       "4       80792.0          1.95                18555  01/01/2025"
      ]
     },
     "metadata": {},
     "output_type": "display_data"
    }
   ],
   "source": [
    "data.rename(columns={\n",
    "    'from_totally_fake_account': 'from_account',\n",
    "    'monopoly_money_amount': 'money_amount',\n",
    "    'to_randomly_generated_account': 'to_account',\n",
    "    'not_happened_yet_date': 'date'\n",
    "}, inplace=True)\n",
    "display(data.head())"
   ]
  },
  {
   "cell_type": "code",
   "execution_count": 5,
   "id": "ae106cd5",
   "metadata": {},
   "outputs": [],
   "source": [
    "from datetime import datetime"
   ]
  },
  {
   "cell_type": "code",
   "execution_count": 6,
   "id": "0090c708",
   "metadata": {},
   "outputs": [],
   "source": [
    "data[\"from_account\"] = data[\"from_account\"].astype(int)\n",
    "data['to_account'] = data['to_account'].apply(lambda x: \"PERSONAL_TRANSFER\" if x.isdigit() else x)\n",
    "data['date'] = data['date'].apply(lambda x: datetime.strptime(x, '%d/%m/%Y'))"
   ]
  },
  {
   "cell_type": "code",
   "execution_count": 7,
   "id": "14147fa1",
   "metadata": {
    "scrolled": true
   },
   "outputs": [],
   "source": [
    "consumption = data.loc[:, ['from_account','money_amount', 'to_account', 'date']]\n",
    "consumption = consumption[consumption[\"to_account\"] != \"PERSONAL_TRANSFER\"].reset_index(drop=True)"
   ]
  },
  {
   "cell_type": "code",
   "execution_count": 8,
   "id": "28aaca25",
   "metadata": {},
   "outputs": [],
   "source": [
    "type_set = set()\n",
    "for item in consumption['to_account'].unique():\n",
    "    type_set.add(item)"
   ]
  },
  {
   "cell_type": "code",
   "execution_count": 9,
   "id": "c1e5a58b",
   "metadata": {},
   "outputs": [],
   "source": [
    "coffee_set = set()\n",
    "for item in type_set:\n",
    "    if \"COFFEE\" in item or \"CAFE\" in item:\n",
    "        coffee_set.add(item)"
   ]
  },
  {
   "cell_type": "code",
   "execution_count": 10,
   "id": "68f18f4e",
   "metadata": {},
   "outputs": [],
   "source": [
    "bar_set = set()\n",
    "bar_keywords = {\"BAR\", \"PUB\",'LOCAL_WATERING_HOLE'}\n",
    "for item in type_set:\n",
    "    for keywords in bar_keywords:\n",
    "        if keywords in item:\n",
    "            bar_set.add(item)"
   ]
  },
  {
   "cell_type": "code",
   "execution_count": 11,
   "id": "d519b5e8",
   "metadata": {},
   "outputs": [],
   "source": [
    "restaurant_set = set()\n",
    "restaurant_keywords = {\"RESTAURANT\",\"KEBAB\",\"SANDWICH\",\"LUNCH\",\"TAKEAWAY\"}\n",
    "for item in type_set:\n",
    "    for keywords in restaurant_keywords:\n",
    "        if keywords in item:\n",
    "            restaurant_set.add(item)\n",
    "restaurant_set = restaurant_set.union({'TURKEY_FARM','TO_BEAN_OR_NOT_TO_BEAN','STEAK_HOUSE','SEAFOOD_RESAURANT'})"
   ]
  },
  {
   "cell_type": "code",
   "execution_count": 12,
   "id": "d675c085",
   "metadata": {},
   "outputs": [],
   "source": [
    "food_retail_set = set()\n",
    "for item in type_set:\n",
    "    if \"BUTCHER\" in item:\n",
    "        food_retail_set.add(item)\n",
    "food_retail_set = food_retail_set.union({'LIQUOR_STORE','WINE_CELLAR','WHISKEY_SHOP','ROASTERIE',\n",
    "                                         'GREENGROCER','TEA_SHOP','WE_HAVE_BEAN_WEIGHTING'})"
   ]
  },
  {
   "cell_type": "code",
   "execution_count": 13,
   "id": "fc7bf190",
   "metadata": {},
   "outputs": [],
   "source": [
    "toy_game_set = {\"TOY_SHOP\", \"VIDEO_GAME_STORE\", \"CHILDRENDS_SHOP\", \"GAME_SHOP\"}\n",
    "clothing_set = {\n",
    "    \"FASHION_SHOP\", \"FASHIONABLE_SPORTSWARE_SHOP\", \"CLOTHES_SHOP\", \n",
    "    \"TRAINER_SHOP\", \"JEWLLERY_SHOP\", \"ACCESSORY_SHOP\", \"KIDS_CLOTHING_SHOP\"\n",
    "}\n",
    "book_set = {\n",
    "    \"COMIC_BOOK_SHOP\", \"BOOKSHOP\", \"NERDY_BOOK_STORE\", \"LOCAL_BOOKSHOP\", \"SECOND_HAND_BOOKSHOP\"\n",
    "}\n",
    "pet_set = {\"PET_TOY_SHOP\", \"PET_SHOP\"}\n",
    "movie_TV_set = {\"CINEMA\",'STREAMING_SERVICE',\"DVD_SHOP\"}\n",
    "electronic_set = {'ELECTRONICS_SHOP','HIPSTER_ELECTRONICS_SHOP','TECH_SHOP'}\n",
    "sport_set = {'SPORT_SHOP', 'GYM','RUNNING_SHOP'}\n",
    "supermarket_set = {\"A_SUPERMARKET\", \"EXPRESS_SUPERMARKET\", \"LARGE_SUPERMARKET\", \"THE_SUPERMARKET\", 'DEPARTMENT_STORE'}\n",
    "\n",
    "non_other_set = coffee_set|bar_set|food_retail_set|toy_game_set|clothing_set|pet_set|movie_TV_set|electronic_set|sport_set|supermarket_set\n",
    "other_set = {item for item in type_set if item not in non_other_set}"
   ]
  },
  {
   "cell_type": "code",
   "execution_count": 14,
   "id": "92ce5c81",
   "metadata": {},
   "outputs": [],
   "source": [
    "map_I_dict = dict()\n",
    "for item in type_set:\n",
    "    if item in coffee_set:\n",
    "        map_I_dict[item] = \"Coffee Shop\"\n",
    "    elif item in bar_set:\n",
    "        map_I_dict[item] = \"Bar\"\n",
    "    elif item in restaurant_set:\n",
    "        map_I_dict[item] = \"Restaurant\"\n",
    "    elif item in food_retail_set:\n",
    "        map_I_dict[item] = \"Food Retail\"\n",
    "    elif item in toy_game_set:\n",
    "        map_I_dict[item] = \"Toy and Game\"\n",
    "    elif item in clothing_set:\n",
    "        map_I_dict[item] = \"Clothing Store\"\n",
    "    elif item in book_set:\n",
    "        map_I_dict[item] = \"Bookstore\"\n",
    "    elif item in pet_set:\n",
    "        map_I_dict[item] = \"Pet\"\n",
    "    elif item in movie_TV_set:\n",
    "        map_I_dict[item] = \"Movie and TV\"\n",
    "    elif item in electronic_set:\n",
    "        map_I_dict[item] = \"Electronic Product\"\n",
    "    elif item in sport_set:\n",
    "        map_I_dict[item] = \"Sport\"\n",
    "    elif item in supermarket_set:\n",
    "        map_I_dict[item] = \"Supermarket\"\n",
    "    elif item in other_set:\n",
    "        map_I_dict[item] = \"Other\"    \n",
    "consumption[\"sub_category\"] = consumption[\"to_account\"].apply(lambda x: map_I_dict[x])"
   ]
  },
  {
   "cell_type": "code",
   "execution_count": 15,
   "id": "73f376dc",
   "metadata": {},
   "outputs": [],
   "source": [
    "map_II_dict = {\n",
    "    \"Coffee Shop\": \"Food and Beverage\",\n",
    "    \"Bar\":\"Food and Beverage\",\n",
    "    \"Restaurant\": \"Food and Beverage\",\n",
    "    \"Food Retail\": \"Food and Beverage\",\n",
    "    \"Movie and TV\": \"Entertainment\",\n",
    "    \"Bookstore\": \"Entertainment\",\n",
    "    \"Toy and Game\": \"Entertainment\",\n",
    "    \"Clothing Store\": \"Clothing\",\n",
    "    \"Electronic Product\": \"Electronics\",\n",
    "    \"Supermarket\": \"Supermarket\",\n",
    "    \"Sport\": \"Sport\",\n",
    "    \"Pet\": \"Pet\",\n",
    "    \"Other\": \"Other\"\n",
    "}\n",
    "consumption[\"category\"] = consumption[\"sub_category\"].apply(lambda x: map_II_dict[x])"
   ]
  },
  {
   "cell_type": "code",
   "execution_count": null,
   "id": "68776cb4",
   "metadata": {},
   "outputs": [],
   "source": [
    "consumption['weekday'] = consumption['date'].apply(lambda x: x.strftime(\"%A\"))\n",
    "consumption['week_number'] = consumption['date'].apply(lambda x: int(x.strftime(\"%U\")) + 1)\n",
    "consumption['month'] = consumption['date'].apply(lambda x: x.strftime(\"%B\"))"
   ]
  },
  {
   "cell_type": "code",
   "execution_count": null,
   "id": "f0c61ad5",
   "metadata": {
    "scrolled": true
   },
   "outputs": [],
   "source": [
    "# consumption.rename(columns={\n",
    "#     \"sub_category\": \"sub_category\",\n",
    "#     \"category\": \"category\"\n",
    "# },inplace=True)\n",
    "# display(consumption.head())"
   ]
  },
  {
   "cell_type": "code",
   "execution_count": null,
   "id": "7c298711",
   "metadata": {},
   "outputs": [],
   "source": [
    "consumption.to_csv('./data/consumption.csv', index=False)"
   ]
  },
  {
   "cell_type": "markdown",
   "id": "62812fd4",
   "metadata": {},
   "source": [
    "# 2. Analysis"
   ]
  },
  {
   "cell_type": "markdown",
   "id": "f67b1132",
   "metadata": {},
   "source": [
    "## 2.1 Analysis on Individuals"
   ]
  },
  {
   "cell_type": "code",
   "execution_count": null,
   "id": "6e1ea7c0",
   "metadata": {},
   "outputs": [],
   "source": [
    "consumption = pd.read_csv('./data/consumption.csv')"
   ]
  },
  {
   "cell_type": "code",
   "execution_count": null,
   "id": "b32a7703",
   "metadata": {},
   "outputs": [],
   "source": [
    "inidividual_mean_consumption = consumption.pivot_table(index='from_account', columns='sub_category', values='money_amount', aggfunc='mean', fill_value=0)\n",
    "display(inidividual_mean_consumption)"
   ]
  },
  {
   "cell_type": "code",
   "execution_count": null,
   "id": "c798e927",
   "metadata": {},
   "outputs": [],
   "source": [
    "inidividual_sum_consumption = consumption.pivot_table(index='from_account', columns='sub_category', values='money_amount', aggfunc='sum', fill_value=0)\n",
    "display(inidividual_sum_consumption)"
   ]
  },
  {
   "cell_type": "markdown",
   "id": "271fb60c",
   "metadata": {},
   "source": [
    "## 2.2 Analysis on Weekdays"
   ]
  },
  {
   "cell_type": "code",
   "execution_count": null,
   "id": "1574b6ed",
   "metadata": {},
   "outputs": [],
   "source": [
    "consumption = pd.read_csv('./data/consumption.csv')\n",
    "consumption = consumption.drop(['from_account'],axis=1)"
   ]
  },
  {
   "cell_type": "code",
   "execution_count": null,
   "id": "66f8679a",
   "metadata": {},
   "outputs": [],
   "source": [
    "consumption_weekday = consumption.loc[:,['money_amount','to_account','sub_category','category','weekday']]\n",
    "consumption_weekday['weekday'] = consumption_weekday['weekday'].astype('category')\n",
    "reorder_list = ['Sunday', 'Monday', 'Tuesday','Wednesday','Thursday', 'Friday', 'Saturday']\n",
    "consumption_weekday['weekday'] = consumption_weekday['weekday'].cat.reorder_categories(reorder_list)"
   ]
  },
  {
   "cell_type": "code",
   "execution_count": null,
   "id": "1420d52c",
   "metadata": {
    "scrolled": true
   },
   "outputs": [],
   "source": [
    "consumption_weekday.info()"
   ]
  },
  {
   "cell_type": "code",
   "execution_count": null,
   "id": "e15b6367",
   "metadata": {},
   "outputs": [],
   "source": [
    "import datetime"
   ]
  },
  {
   "cell_type": "code",
   "execution_count": null,
   "id": "c368885b",
   "metadata": {},
   "outputs": [],
   "source": [
    "start_date = datetime.date(2025, 1, 1)\n",
    "end_date = datetime.date(2025, 12, 31)\n",
    "\n",
    "\n",
    "day_count = {'Sunday': 0, 'Monday': 0, 'Tuesday': 0, 'Wednesday': 0, 'Thursday': 0, 'Friday': 0, 'Saturday': 0}\n",
    "\n",
    "current_date = start_date\n",
    "while current_date <= end_date:\n",
    "    day_of_week = current_date.strftime(\"%A\")\n",
    "    day_count[day_of_week] += 1\n",
    "    current_date += datetime.timedelta(days=1)"
   ]
  },
  {
   "cell_type": "code",
   "execution_count": null,
   "id": "b61d8be1",
   "metadata": {
    "scrolled": false
   },
   "outputs": [],
   "source": [
    "consumption_weekday_category = consumption_weekday.groupby(['weekday', 'category'])['money_amount'].agg(['sum', 'mean', 'std','max', 'min', 'count']).sort_values(by='weekday')\n",
    "consumption_weekday_category = consumption_weekday_category.reset_index()\n",
    "consumption_weekday_category['weekday_count'] = consumption_weekday_category['weekday'].apply(lambda x: day_count[x])\n",
    "consumption_weekday_category['average_transaction_volume'] = consumption_weekday_category['count']/consumption_weekday_category['weekday_count']\n",
    "consumption_weekday_category['average_transaction_volume'] = consumption_weekday_category['average_transaction_volume'].astype(int)\n",
    "consumption_weekday_category.drop(['weekday_count'],axis=1,inplace=True)\n",
    "consumption_weekday_category.rename(columns={\n",
    "    'sum':'total_transaction_amount',\n",
    "    'mean':'average_transaction_amount',\n",
    "    'std':'std_transaction_amount',\n",
    "    'max':'max_transaction_amount',\n",
    "    'min':'min_transaction_amount',\n",
    "    'count':'total_transaction_volume'\n",
    "},inplace=True)\n",
    "consumption_weekday_category = consumption_weekday_category.set_index(['weekday','category'])\n",
    "consumption_weekday_category = consumption_weekday_category.sort_index()\n",
    "display(consumption_weekday_category)"
   ]
  },
  {
   "cell_type": "code",
   "execution_count": null,
   "id": "741d588e",
   "metadata": {},
   "outputs": [],
   "source": [
    "titles = ['total_transaction_amount','average_transaction_amount','total_transaction_volume', 'average_transaction_volume']\n",
    "fig, axes = plt.subplots(nrows=2, ncols=2, figsize=(20, 18))\n",
    "index = 0\n",
    "for i in range(2):\n",
    "    for j in range(2):\n",
    "        sns.barplot(data=consumption_weekday_category.reset_index(), x='weekday', y=titles[index], hue='category',ax=axes[i,j])\n",
    "        title = titles[index].replace('_', ' ').title()\n",
    "        axes[i,j].set_title(title)\n",
    "        axes[i,j].set_xlabel('Weekday')\n",
    "        index += 1\n",
    "\n",
    "plt.tight_layout()\n",
    "plt.savefig('./figs/weekdays.png')\n",
    "plt.show()"
   ]
  },
  {
   "cell_type": "markdown",
   "id": "321972e6",
   "metadata": {},
   "source": [
    "According to the diagrams above, the `total transaction amount`, the `total transaction volume` and the `average transaction volume` of `Food and Beverage` is the highest on each weekday, and the consumption is concentrated on `Fridays`, `Saturdays`, and `Sundays`. However, `Electronics` has the highest `average_transaction_amount`, followed by `Clothing` and `Supermarket`."
   ]
  },
  {
   "cell_type": "markdown",
   "id": "3953b27d",
   "metadata": {},
   "source": [
    "### 2.2.1 Further Analysis on `Food and Beverage`"
   ]
  },
  {
   "cell_type": "code",
   "execution_count": null,
   "id": "e5b9525a",
   "metadata": {},
   "outputs": [],
   "source": [
    "start_date = datetime.date(2025, 1, 1)\n",
    "end_date = datetime.date(2025, 12, 31)\n",
    "\n",
    "\n",
    "day_count = {'Sunday': 0, 'Monday': 0, 'Tuesday': 0, 'Wednesday': 0, 'Thursday': 0, 'Friday': 0, 'Saturday': 0}\n",
    "\n",
    "current_date = start_date\n",
    "while current_date <= end_date:\n",
    "    day_of_week = current_date.strftime(\"%A\")\n",
    "    day_count[day_of_week] += 1\n",
    "    current_date += datetime.timedelta(days=1)"
   ]
  },
  {
   "cell_type": "code",
   "execution_count": null,
   "id": "b96cf465",
   "metadata": {},
   "outputs": [],
   "source": [
    "consumption_food_weekday = consumption_weekday[consumption_weekday['category']=='Food and Beverage']\n",
    "consumption_food_weekday = consumption_food_weekday.groupby(['weekday', 'sub_category'])['money_amount'].agg(['sum', 'mean', 'std','max', 'min', 'count']).sort_values(by='weekday')\n",
    "consumption_food_weekday = consumption_food_weekday.reset_index()\n",
    "consumption_food_weekday['weekday_count'] = consumption_food_weekday['weekday'].apply(lambda x: day_count[x])\n",
    "consumption_food_weekday['average_transaction_volume'] = consumption_food_weekday['count']/consumption_food_weekday['weekday_count']\n",
    "consumption_food_weekday['average_transaction_volume'] = consumption_food_weekday['average_transaction_volume'].astype(int)\n",
    "consumption_food_weekday.drop(['weekday_count'],axis=1,inplace=True)\n",
    "consumption_food_weekday.rename(columns={\n",
    "    'sum':'total_transaction_amount',\n",
    "    'mean':'average_transaction_amount',\n",
    "    'std':'std_transaction_amount',\n",
    "    'max':'max_transaction_amount',\n",
    "    'min':'min_transaction_amount',\n",
    "    'count':'total_transaction_volume'\n",
    "},inplace=True)\n",
    "consumption_food_weekday = consumption_food_weekday.set_index(['weekday','sub_category'])\n",
    "consumption_food_weekday = consumption_food_weekday.sort_index()\n",
    "display(consumption_food_weekday)"
   ]
  },
  {
   "cell_type": "code",
   "execution_count": null,
   "id": "86560b32",
   "metadata": {},
   "outputs": [],
   "source": [
    "titles = ['total_transaction_amount','average_transaction_amount','total_transaction_volume', 'average_transaction_volume']\n",
    "fig, axes = plt.subplots(nrows=2, ncols=2, figsize=(20, 18))\n",
    "index = 0\n",
    "for i in range(2):\n",
    "    for j in range(2):\n",
    "        sns.barplot(data=consumption_food_weekday.reset_index(), x='weekday', y=titles[index], hue='sub_category',ax=axes[i,j])\n",
    "        title = titles[index].replace('_', ' ').title()\n",
    "        axes[i,j].set_title(title)\n",
    "        axes[i,j].set_xlabel('Weekday')\n",
    "        index += 1\n",
    "\n",
    "plt.tight_layout()\n",
    "plt.savefig('./figs/foodweekdays.png')\n",
    "plt.show()\n"
   ]
  },
  {
   "cell_type": "markdown",
   "id": "53c8a508",
   "metadata": {},
   "source": [
    "According to the digrams above, the consumption of `Bar` is concentrated on and achieved highest `Total Transction Amount` on `Fridays`, `Saturdays`, and `Sundays`. However, `Food Retail` has the highest `Average Transction Amount` on each weekday."
   ]
  },
  {
   "cell_type": "markdown",
   "id": "05c8bde3",
   "metadata": {},
   "source": [
    "## 2.3 Analysis on Months"
   ]
  },
  {
   "cell_type": "code",
   "execution_count": null,
   "id": "61223539",
   "metadata": {},
   "outputs": [],
   "source": [
    "consumption_month = consumption.loc[:,['money_amount','to_account','sub_category','category','month']]\n",
    "consumption_month['month'] = consumption_month['month'].apply(lambda x: x[:3])\n",
    "consumption_month['month'] = consumption_month['month'].astype('category')\n",
    "reorder_list = ['Jan','Feb','Mar','Apr','May','Jun','Jul','Aug','Sep','Oct','Nov','Dec']\n",
    "consumption_month['month'] = consumption_month['month'].cat.reorder_categories(reorder_list)"
   ]
  },
  {
   "cell_type": "code",
   "execution_count": null,
   "id": "89f6fc58",
   "metadata": {},
   "outputs": [],
   "source": [
    "day_count = {\n",
    "    'Jan':31,\n",
    "    'Feb':28,\n",
    "    'Mar': 31,\n",
    "    'Apr': 30,\n",
    "    'May': 31,\n",
    "    'Jun': 30,\n",
    "    'Jul': 31,\n",
    "    'Aug': 31,\n",
    "    'Sep': 30,\n",
    "    'Oct': 31,\n",
    "    'Nov': 30,\n",
    "    'Dec':31\n",
    "}"
   ]
  },
  {
   "cell_type": "code",
   "execution_count": null,
   "id": "dc7bfee7",
   "metadata": {
    "scrolled": false
   },
   "outputs": [],
   "source": [
    "consumption_month_category = consumption_month.groupby(['month', 'category'])['money_amount'].agg(['sum', 'mean', 'std','max', 'min', 'count']).sort_values(by='month')\n",
    "consumption_month_category = consumption_month_category.reset_index()\n",
    "consumption_month_category['month_count'] = consumption_month_category['month'].apply(lambda x: day_count[x])\n",
    "consumption_month_category['average_transaction_volume'] = consumption_month_category['count']/consumption_month_category['month_count']\n",
    "consumption_month_category['average_transaction_volume'] = consumption_month_category['average_transaction_volume'].astype(int)\n",
    "consumption_month_category.drop(['month_count'],axis=1,inplace=True)\n",
    "consumption_month_category.rename(columns={\n",
    "    'sum':'total_transaction_amount',\n",
    "    'mean':'average_transaction_amount',\n",
    "    'std':'std_transaction_amount',\n",
    "    'max':'max_transaction_amount',\n",
    "    'min':'min_transaction_amount',\n",
    "    'count':'total_transaction_volume'\n",
    "},inplace=True)\n",
    "consumption_month_category = consumption_month_category.set_index(['month','category'])\n",
    "consumption_month_category = consumption_month_category.sort_index()\n",
    "display(consumption_month_category)"
   ]
  },
  {
   "cell_type": "code",
   "execution_count": null,
   "id": "01093cf3",
   "metadata": {
    "scrolled": true
   },
   "outputs": [],
   "source": [
    "titles = ['total_transaction_amount','average_transaction_amount','total_transaction_volume', 'average_transaction_volume']\n",
    "fig, axes = plt.subplots(nrows=2, ncols=2, figsize=(20, 18))\n",
    "index = 0\n",
    "for i in range(2):\n",
    "    for j in range(2):\n",
    "        sns.lineplot(data=consumption_month_category.reset_index(), x='month', y=titles[index], hue='category',ax=axes[i,j])\n",
    "        title = titles[index].replace('_', ' ').title()\n",
    "        axes[i,j].set_title(title)\n",
    "        axes[i,j].set_xlabel('Month')\n",
    "        axes[i,j].set_ylabel('Value')\n",
    "        index += 1\n",
    "\n",
    "plt.savefig('./figs/month.png')\n",
    "plt.tight_layout()\n",
    "plt.show()"
   ]
  },
  {
   "cell_type": "markdown",
   "id": "ea7f56e8",
   "metadata": {},
   "source": [
    "According to the line charts above, expect `Food and Beverage`, the remaining types don't change sharply. And in Decembers, almost all experience an increase."
   ]
  }
 ],
 "metadata": {
  "kernelspec": {
   "display_name": "Python 3 (ipykernel)",
   "language": "python",
   "name": "python3"
  },
  "language_info": {
   "codemirror_mode": {
    "name": "ipython",
    "version": 3
   },
   "file_extension": ".py",
   "mimetype": "text/x-python",
   "name": "python",
   "nbconvert_exporter": "python",
   "pygments_lexer": "ipython3",
   "version": "3.11.5"
  }
 },
 "nbformat": 4,
 "nbformat_minor": 5
}
