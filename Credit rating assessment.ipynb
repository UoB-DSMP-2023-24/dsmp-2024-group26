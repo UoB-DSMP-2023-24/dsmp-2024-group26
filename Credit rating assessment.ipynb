{
 "cells": [
  {
   "cell_type": "code",
   "execution_count": 31,
   "id": "3713952f",
   "metadata": {},
   "outputs": [
    {
     "name": "stdout",
     "output_type": "stream",
     "text": [
      "         Date Timestamp   Account No  Balance  Amount Third Party Account No  \\\n",
      "0  01/01/2023     00:00  678330503.0   2971.0  1584.0                    nan   \n",
      "1  01/01/2023     00:00  472213568.0   3792.0  1950.0                    nan   \n",
      "2  01/01/2023     00:00  472213568.0   3012.0  -780.0            283027736.0   \n",
      "3  01/01/2023     00:00  283027736.0   1787.0   780.0            472213568.0   \n",
      "4  01/01/2023     00:00  624500124.0   3226.0  1825.0                    nan   \n",
      "\n",
      "     Third Party Name  \n",
      "0  Westport Care Home  \n",
      "1    Barbiee Boutique  \n",
      "2                 NaN  \n",
      "3                 NaN  \n",
      "4            Fat Face  \n"
     ]
    }
   ],
   "source": [
    "import pandas as pd\n",
    "import numpy as np\n",
    "from sklearn.cluster import KMeans\n",
    "import seaborn as sns\n",
    "import matplotlib.pyplot as plt\n",
    "\n",
    "# Step 1: Data Preprocessing\n",
    "data_path = 'simulated_transaction_2024.csv'\n",
    "df = pd.read_csv(data_path)\n",
    "\n",
    "# Remove duplicate entries\n",
    "df = df.drop_duplicates()\n",
    "\n",
    "\n",
    "# Convert data types - treating account numbers as strings to preserve leading zeros if any\n",
    "df['Account No'] = df['Account No'].astype(str)\n",
    "df['Third Party Account No'] = df['Third Party Account No'].astype(str)\n",
    "\n",
    "# Handle missing values in 'Third Party Name'\n",
    "# If 'Third Party Name' is NaN and 'Third Party Account No' is numeric, mark as \"Transfer\"\n",
    "df.loc[df['Third Party Name'].isnull() & df['Third Party Account No'].str.isnumeric(), 'Third Party Name'] = 'Transfer'\n",
    "\n",
    "# Display the first few rows of the preprocessed data\n",
    "print(df.head())\n"
   ]
  },
  {
   "cell_type": "code",
   "execution_count": 2,
   "id": "686c26c2",
   "metadata": {},
   "outputs": [
    {
     "name": "stdout",
     "output_type": "stream",
     "text": [
      "      Account No  Average Monthly Consumption\n",
      "0    101531259.0                  1468.965000\n",
      "1    104832000.0                  2092.960000\n",
      "2    105375973.0                   841.147500\n",
      "3    106601471.0                   648.000000\n",
      "4    108481285.0                  1255.423333\n",
      "..           ...                          ...\n",
      "972  996042490.0                  2939.000833\n",
      "973  998390769.0                  1938.486364\n",
      "974  998405607.0                   734.680000\n",
      "975  999752672.0                  2549.189167\n",
      "976          nan                  1286.454167\n",
      "\n",
      "[977 rows x 2 columns]\n"
     ]
    },
    {
     "name": "stderr",
     "output_type": "stream",
     "text": [
      "C:\\Users\\郭程鹏\\AppData\\Local\\Temp\\ipykernel_28924\\1215489247.py:2: UserWarning: Parsing dates in DD/MM/YYYY format when dayfirst=False (the default) was specified. This may lead to inconsistently parsed dates! Specify a format to ensure consistent parsing.\n",
      "  df['Date'] = pd.to_datetime(df['Date'])\n"
     ]
    }
   ],
   "source": [
    "# Ensure 'Date' column is of datetime type\n",
    "df['Date'] = pd.to_datetime(df['Date'])\n",
    "\n",
    "# Extract year and month\n",
    "df['YearMonth'] = df['Date'].dt.to_period('M')\n",
    "\n",
    "# Calculate total outflow for each account for each month (assuming outflow is negative in the Amount column)\n",
    "monthly_outflow = df[df['Amount'] < 0].groupby(['Account No', 'YearMonth'])['Amount'].sum().reset_index()\n",
    "monthly_outflow.columns = ['Account No', 'YearMonth', 'Monthly_Outflow']\n",
    "\n",
    "# Convert outflow to positive values since outflows are typically recorded as negative\n",
    "monthly_outflow['Monthly_Outflow'] = monthly_outflow['Monthly_Outflow'].abs()\n",
    "\n",
    "# First calculate total number of months for each account for averaging\n",
    "months_per_account = monthly_outflow.groupby('Account No').size()\n",
    "\n",
    "# Calculate total outflow for each account (now in positive values)\n",
    "total_outflow_per_account = monthly_outflow.groupby('Account No')['Monthly_Outflow'].sum()\n",
    "\n",
    "# Calculate average monthly consumption (positive values)\n",
    "monthly_avg_consumption = (total_outflow_per_account / months_per_account).reset_index()\n",
    "monthly_avg_consumption.columns = ['Account No', 'Average Monthly Consumption']\n",
    "\n",
    "# Display the average monthly consumption for each account along with corresponding levels\n",
    "print(monthly_avg_consumption)\n"
   ]
  },
  {
   "cell_type": "code",
   "execution_count": 3,
   "id": "5be82606",
   "metadata": {},
   "outputs": [
    {
     "name": "stderr",
     "output_type": "stream",
     "text": [
      "C:\\ProgramData\\anaconda3\\lib\\site-packages\\sklearn\\cluster\\_kmeans.py:870: FutureWarning: The default value of `n_init` will change from 10 to 'auto' in 1.4. Set the value of `n_init` explicitly to suppress the warning\n",
      "  warnings.warn(\n",
      "C:\\ProgramData\\anaconda3\\lib\\site-packages\\sklearn\\cluster\\_kmeans.py:1382: UserWarning: KMeans is known to have a memory leak on Windows with MKL, when there are less chunks than available threads. You can avoid it by setting the environment variable OMP_NUM_THREADS=4.\n",
      "  warnings.warn(\n"
     ]
    },
    {
     "name": "stdout",
     "output_type": "stream",
     "text": [
      "      Account No  Average Monthly Consumption Consumption Class\n",
      "0    101531259.0                  1468.965000            Medium\n",
      "1    104832000.0                  2092.960000            Medium\n",
      "2    105375973.0                   841.147500               Low\n",
      "3    106601471.0                   648.000000               Low\n",
      "4    108481285.0                  1255.423333            Medium\n",
      "..           ...                          ...               ...\n",
      "972  996042490.0                  2939.000833              High\n",
      "973  998390769.0                  1938.486364            Medium\n",
      "974  998405607.0                   734.680000               Low\n",
      "975  999752672.0                  2549.189167              High\n",
      "976          nan                  1286.454167            Medium\n",
      "\n",
      "[977 rows x 3 columns]\n"
     ]
    }
   ],
   "source": [
    "from sklearn.cluster import KMeans\n",
    "import pandas as pd\n",
    "import numpy as np\n",
    "\n",
    "k = 3\n",
    "\n",
    "# Run KMeans clustering\n",
    "kmeans = KMeans(n_clusters=k, random_state=0).fit(monthly_avg_consumption[['Average Monthly Consumption']])\n",
    "monthly_avg_consumption['Cluster'] = kmeans.labels_\n",
    "\n",
    "# Get the centroid values for each cluster\n",
    "cluster_centers = kmeans.cluster_centers_.squeeze()\n",
    "\n",
    "# Sort the cluster centers and get the indices after sorting\n",
    "sorted_idx = np.argsort(cluster_centers)\n",
    "\n",
    "# Create a mapping to map the sorted cluster indices to classes\n",
    "cluster_to_class = {sorted_idx[0]: 'Low', sorted_idx[1]: 'Medium', sorted_idx[2]: 'High'}\n",
    "\n",
    "# Convert the clustering results to classes\n",
    "monthly_avg_consumption['Consumption Class'] = monthly_avg_consumption['Cluster'].map(cluster_to_class)\n",
    "\n",
    "# Drop the no longer needed Cluster column\n",
    "monthly_avg_consumption.drop('Cluster', axis=1, inplace=True)\n",
    "\n",
    "# Display the updated DataFrame\n",
    "print(monthly_avg_consumption)\n"
   ]
  },
  {
   "cell_type": "code",
   "execution_count": 46,
   "id": "1039dc3e",
   "metadata": {},
   "outputs": [
    {
     "name": "stderr",
     "output_type": "stream",
     "text": [
      "C:\\Users\\郭程鹏\\AppData\\Local\\Temp\\ipykernel_28924\\3991354445.py:28: FutureWarning: The pandas.np module is deprecated and will be removed from pandas in a future version. Import numpy directly instead.\n",
      "  security_df['Security Level'] = pd.np.select(conditions, choices)\n"
     ]
    },
    {
     "data": {
      "text/html": [
       "<div>\n",
       "<style scoped>\n",
       "    .dataframe tbody tr th:only-of-type {\n",
       "        vertical-align: middle;\n",
       "    }\n",
       "\n",
       "    .dataframe tbody tr th {\n",
       "        vertical-align: top;\n",
       "    }\n",
       "\n",
       "    .dataframe thead th {\n",
       "        text-align: right;\n",
       "    }\n",
       "</style>\n",
       "<table border=\"1\" class=\"dataframe\">\n",
       "  <thead>\n",
       "    <tr style=\"text-align: right;\">\n",
       "      <th></th>\n",
       "      <th>Account No</th>\n",
       "      <th>Large Transfer Count</th>\n",
       "      <th>Has Repeated Large Transfers</th>\n",
       "      <th>Consumption Class</th>\n",
       "      <th>Security Level</th>\n",
       "      <th>Risk Level</th>\n",
       "    </tr>\n",
       "  </thead>\n",
       "  <tbody>\n",
       "    <tr>\n",
       "      <th>0</th>\n",
       "      <td>678330503.0</td>\n",
       "      <td>NaN</td>\n",
       "      <td>False</td>\n",
       "      <td>Medium</td>\n",
       "      <td>High</td>\n",
       "      <td>Medium Risk</td>\n",
       "    </tr>\n",
       "    <tr>\n",
       "      <th>1</th>\n",
       "      <td>472213568.0</td>\n",
       "      <td>NaN</td>\n",
       "      <td>False</td>\n",
       "      <td>Medium</td>\n",
       "      <td>High</td>\n",
       "      <td>Medium Risk</td>\n",
       "    </tr>\n",
       "    <tr>\n",
       "      <th>2</th>\n",
       "      <td>283027736.0</td>\n",
       "      <td>NaN</td>\n",
       "      <td>False</td>\n",
       "      <td>Low</td>\n",
       "      <td>High</td>\n",
       "      <td>Low Risk</td>\n",
       "    </tr>\n",
       "    <tr>\n",
       "      <th>3</th>\n",
       "      <td>624500124.0</td>\n",
       "      <td>NaN</td>\n",
       "      <td>False</td>\n",
       "      <td>Medium</td>\n",
       "      <td>High</td>\n",
       "      <td>Medium Risk</td>\n",
       "    </tr>\n",
       "    <tr>\n",
       "      <th>4</th>\n",
       "      <td>203466392.0</td>\n",
       "      <td>NaN</td>\n",
       "      <td>False</td>\n",
       "      <td>High</td>\n",
       "      <td>High</td>\n",
       "      <td>Medium Risk</td>\n",
       "    </tr>\n",
       "  </tbody>\n",
       "</table>\n",
       "</div>"
      ],
      "text/plain": [
       "    Account No  Large Transfer Count  Has Repeated Large Transfers  \\\n",
       "0  678330503.0                   NaN                         False   \n",
       "1  472213568.0                   NaN                         False   \n",
       "2  283027736.0                   NaN                         False   \n",
       "3  624500124.0                   NaN                         False   \n",
       "4  203466392.0                   NaN                         False   \n",
       "\n",
       "  Consumption Class Security Level   Risk Level  \n",
       "0            Medium           High  Medium Risk  \n",
       "1            Medium           High  Medium Risk  \n",
       "2               Low           High     Low Risk  \n",
       "3            Medium           High  Medium Risk  \n",
       "4              High           High  Medium Risk  "
      ]
     },
     "execution_count": 46,
     "metadata": {},
     "output_type": "execute_result"
    }
   ],
   "source": [
    "# First, calculate the number of large transfers for each account\n",
    "large_transfers = df[df['Amount'] < - 1500].groupby('Account No')['Amount'].size().reset_index(name='Large Transfer Count')\n",
    "\n",
    "# Next, mark which accounts have made repeated large transfers to the same account\n",
    "df['RepeatedLargeTransfer'] = df[df['Amount'] < - 1500].groupby(['Account No', 'Third Party Account No']).cumcount() + 1\n",
    "df_repeated = df[df['RepeatedLargeTransfer'] > 1]\n",
    "accounts_with_repeated_transfers = df_repeated['Account No'].unique()\n",
    "\n",
    "# Create a new DataFrame for security level\n",
    "security_df = pd.DataFrame(df['Account No'].unique(), columns=['Account No'])\n",
    "\n",
    "# Mark the number of large transfers\n",
    "security_df = security_df.merge(large_transfers, on='Account No', how='left')\n",
    "\n",
    "# Mark if there are repeated large transfers to the same account\n",
    "security_df['Has Repeated Large Transfers'] = security_df['Account No'].isin(accounts_with_repeated_transfers)\n",
    "\n",
    "# Merge consumption class\n",
    "security_df = security_df.merge(monthly_avg_consumption[['Account No', 'Consumption Class']], on='Account No', how='left')\n",
    "\n",
    "# Define security level classification rules\n",
    "conditions = [\n",
    "    security_df['Has Repeated Large Transfers'],\n",
    "    security_df['Large Transfer Count'] > 0,\n",
    "    security_df['Large Transfer Count'].isna() | (security_df['Large Transfer Count'] == 0)\n",
    "]\n",
    "choices = ['Low', 'Medium', 'High']\n",
    "security_df['Security Level'] = pd.np.select(conditions, choices)\n",
    "\n",
    "# Integrate security level and consumption class to determine the final risk level\n",
    "def determine_risk_level(row):\n",
    "    if row['Security Level'] == 'Low':\n",
    "        return 'High Risk'\n",
    "    elif row['Security Level'] == 'Medium':\n",
    "        return 'Medium Risk'\n",
    "    else:\n",
    "        # If security level is high, further determine based on consumption class\n",
    "        return 'Low Risk' if row['Consumption Class'] in ['Low'] else 'Medium Risk'\n",
    "\n",
    "# Apply the comprehensive risk level assessment function\n",
    "security_df['Risk Level'] = security_df.apply(determine_risk_level, axis=1)\n",
    "\n",
    "# Display the final risk level DataFrame\n",
    "security_df.head()\n"
   ]
  },
  {
   "cell_type": "code",
   "execution_count": 48,
   "id": "ef32b504",
   "metadata": {},
   "outputs": [
    {
     "data": {
      "text/plain": [
       "(    Account No  Large Transfer Count  Has Repeated Large Transfers  \\\n",
       " 0  678330503.0                   NaN                         False   \n",
       " 1  472213568.0                   NaN                         False   \n",
       " 2  283027736.0                   NaN                         False   \n",
       " 3  624500124.0                   NaN                         False   \n",
       " 4  203466392.0                   NaN                         False   \n",
       " \n",
       "   Consumption Class Security Level   Risk Level  \n",
       " 0            Medium           High  Medium Risk  \n",
       " 1            Medium           High  Medium Risk  \n",
       " 2               Low           High     Low Risk  \n",
       " 3            Medium           High  Medium Risk  \n",
       " 4              High           High  Medium Risk  ,\n",
       " Medium Risk    585\n",
       " Low Risk       326\n",
       " High Risk       66\n",
       " Name: Risk Level, dtype: int64)"
      ]
     },
     "execution_count": 48,
     "metadata": {},
     "output_type": "execute_result"
    }
   ],
   "source": [
    "risk_levels = security_df['Risk Level'].value_counts()\n",
    "(security_df.head(), risk_levels)"
   ]
  },
  {
   "cell_type": "code",
   "execution_count": 55,
   "id": "93dfde27",
   "metadata": {},
   "outputs": [
    {
     "data": {
      "image/png": "[encoded data removed]",
      "text/plain": [
       "<Figure size 800x600 with 1 Axes>"
      ]
     },
     "metadata": {},
     "output_type": "display_data"
    }
   ],
   "source": [
    "import matplotlib.pyplot as plt\n",
    "import seaborn as sns\n",
    "\n",
    "# Set the style\n",
    "sns.set(style=\"whitegrid\")\n",
    "\n",
    "# Plot the distribution of security levels with a different color palette\n",
    "plt.figure(figsize=(8, 6))\n",
    "sns.countplot(x='Risk Level', data=security_df, palette='pastel')\n",
    "plt.title('Distribution of Security Levels')\n",
    "plt.xlabel('Security Level')\n",
    "plt.ylabel('Count')\n",
    "plt.show()\n"
   ]
  },
  {
   "cell_type": "code",
   "execution_count": 40,
   "id": "0279b2af",
   "metadata": {},
   "outputs": [],
   "source": [
    "df_cleaned = df[df['Third Party Account No'].str.isnumeric()]\n"
   ]
  },
  {
   "cell_type": "code",
   "execution_count": 49,
   "id": "9ce9bf3d",
   "metadata": {},
   "outputs": [
    {
     "data": {
      "text/plain": [
       "array(['172084472.0', '548907062.0', '979135922.0', '280098744.0',\n",
       "       '585596026.0', '514362267.0', '925659248.0', '250895529.0',\n",
       "       '647936800.0', '950234174.0', '741269136.0', '939972497.0',\n",
       "       '715068825.0', '223207876.0', '701070224.0', '242218612.0',\n",
       "       '943329213.0', '986516668.0', '596463612.0', '949500755.0',\n",
       "       '414454079.0', '500051919.0', '409370545.0', '986774156.0',\n",
       "       '122884111.0', '462962606.0', '150489918.0', '138609932.0',\n",
       "       '962295212.0', '423208402.0', '673025413.0', '228136274.0',\n",
       "       '492058070.0', '985188462.0', '637649383.0', '385685918.0',\n",
       "       '151278285.0', '421881811.0', '535804582.0', '575652395.0',\n",
       "       '987656636.0', '235310449.0', '815993333.0', '971129830.0',\n",
       "       '165045150.0', '475277431.0', '185246571.0', '229448150.0',\n",
       "       '497809732.0', '173335108.0', '531186970.0', '121363710.0',\n",
       "       '711045550.0', '769319491.0', '713057426.0', '280200287.0',\n",
       "       '224112146.0', '517934629.0', '348525881.0', '214765415.0',\n",
       "       '183186021.0', '771125520.0', '933745726.0', '762859681.0',\n",
       "       '494156462.0', '162162212.0'], dtype=object)"
      ]
     },
     "execution_count": 49,
     "metadata": {},
     "output_type": "execute_result"
    }
   ],
   "source": [
    "# Define the large transfer threshold\n",
    "large_transfer_threshold = -1500\n",
    "\n",
    "# Filter out all large transfer records\n",
    "large_transfers = df[df['Amount'] < large_transfer_threshold]\n",
    "\n",
    "# Calculate the number of large transfers received by each \"Third Party Account No\"\n",
    "third_party_large_transfers = large_transfers.groupby('Third Party Account No').size()\n",
    "\n",
    "# Filter out \"Third Party Account No\" that received multiple large transfers\n",
    "dangerous_accounts = third_party_large_transfers[third_party_large_transfers > 1].index.tolist()\n",
    "\n",
    "# Mark dangerous accounts\n",
    "df['Dangerous Account'] = df['Third Party Account No'].isin(dangerous_accounts)\n",
    "\n",
    "# Output the list of dangerous accounts and DataFrame with the marking\n",
    "dangerous_accounts_list = df[df['Dangerous Account']]['Third Party Account No'].unique()\n",
    "\n",
    "dangerous_accounts_list\n"
   ]
  },
  {
   "cell_type": "code",
   "execution_count": null,
   "id": "5c8dfcd4",
   "metadata": {},
   "outputs": [],
   "source": []
  }
 ],
 "metadata": {
  "kernelspec": {
   "display_name": "Python 3 (ipykernel)",
   "language": "python",
   "name": "python3"
  },
  "language_info": {
   "codemirror_mode": {
    "name": "ipython",
    "version": 3
   },
   "file_extension": ".py",
   "mimetype": "text/x-python",
   "name": "python",
   "nbconvert_exporter": "python",
   "pygments_lexer": "ipython3",
   "version": "3.10.9"
  }
 },
 "nbformat": 4,
 "nbformat_minor": 5
}
